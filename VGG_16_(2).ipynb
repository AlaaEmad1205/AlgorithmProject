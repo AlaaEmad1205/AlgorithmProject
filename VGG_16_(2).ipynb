{
  "nbformat": 4,
  "nbformat_minor": 0,
  "metadata": {
    "colab": {
      "provenance": [],
      "gpuType": "T4",
      "authorship_tag": "ABX9TyMva6kNSl9VGUoQsZI4E9uU",
      "include_colab_link": true
    },
    "kernelspec": {
      "name": "python3",
      "display_name": "Python 3"
    },
    "language_info": {
      "name": "python"
    },
    "accelerator": "GPU"
  },
  "cells": [
    {
      "cell_type": "markdown",
      "metadata": {
        "id": "view-in-github",
        "colab_type": "text"
      },
      "source": [
        "<a href=\"https://colab.research.google.com/github/AlaaEmad1205/AlgorithmProject/blob/main/VGG_16_(2).ipynb\" target=\"_parent\"><img src=\"https://colab.research.google.com/assets/colab-badge.svg\" alt=\"Open In Colab\"/></a>"
      ]
    },
    {
      "cell_type": "code",
      "source": [
        "import tensorflow as tf\n",
        "\n",
        "print(\"Num GPUs Available: \", len(tf.config.list_physical_devices('GPU')))\n"
      ],
      "metadata": {
        "colab": {
          "base_uri": "https://localhost:8080/"
        },
        "id": "OWsbh8IsJ-Us",
        "outputId": "547f0724-0772-4542-bac1-0163d8228c81"
      },
      "execution_count": 1,
      "outputs": [
        {
          "output_type": "stream",
          "name": "stdout",
          "text": [
            "Num GPUs Available:  1\n"
          ]
        }
      ]
    },
    {
      "cell_type": "code",
      "execution_count": 3,
      "metadata": {
        "colab": {
          "base_uri": "https://localhost:8080/"
        },
        "id": "peN-ZvER_0Q8",
        "outputId": "040e7a53-bbb9-47ff-ed93-bbc0d85c933e"
      },
      "outputs": [
        {
          "output_type": "stream",
          "name": "stdout",
          "text": [
            "Mounted at /content/drive\n"
          ]
        }
      ],
      "source": [
        "import tensorflow as tf\n",
        "from tensorflow.keras.preprocessing.image import ImageDataGenerator\n",
        "from tensorflow.keras.models import Sequential\n",
        "from tensorflow.keras.layers import Conv2D, MaxPooling2D, Flatten, Dense, Dropout\n",
        "from google.colab import drive\n",
        "import zipfile\n",
        "import os\n",
        "from tensorflow.keras.applications import VGG16\n",
        "from tensorflow.keras.models import Sequential\n",
        "from tensorflow.keras.layers import Dense, Flatten, Dropout\n",
        "from tensorflow.keras.optimizers import Adam\n",
        "\n",
        "# Mount Google Drive\n",
        "drive.mount('/content/drive', force_remount=True)"
      ]
    },
    {
      "cell_type": "code",
      "source": [
        "# Unzip the file\n",
        "zip_file_path = \"/content/drive/MyDrive/data.zip\"\n",
        "extract_path = \"/content/extracted_files\"\n",
        "with zipfile.ZipFile(zip_file_path, 'r') as zip_ref:\n",
        "    zip_ref.extractall(extract_path)\n",
        "\n",
        "# Set paths for the directories\n",
        "train_dir = os.path.join(extract_path, 'data/training/PlantVillage')\n",
        "img_height, img_width = 224, 224  # Standard size for many CNNs\n",
        "\n",
        "# Create an ImageDataGenerator for data augmentation and normalization\n",
        "train_datagen = ImageDataGenerator(\n",
        "    rescale=1.0/255,\n",
        "    validation_split=0.2  # 20% for validation\n",
        ")\n",
        "\n",
        "# Load training and validation data\n",
        "train_generator = train_datagen.flow_from_directory(\n",
        "    train_dir,\n",
        "    target_size=(img_height, img_width),\n",
        "    batch_size=32,\n",
        "    class_mode='categorical',\n",
        "    subset='training'\n",
        ")\n",
        "\n",
        "validation_generator = train_datagen.flow_from_directory(\n",
        "    train_dir,\n",
        "    target_size=(img_height, img_width),\n",
        "    batch_size=32,\n",
        "    class_mode='categorical',\n",
        "    subset='validation'\n",
        ")\n",
        "\n"
      ],
      "metadata": {
        "colab": {
          "base_uri": "https://localhost:8080/"
        },
        "id": "RpTTRZi1AH6T",
        "outputId": "f646f503-1589-4e3d-9c5a-0f3c84410aec"
      },
      "execution_count": 4,
      "outputs": [
        {
          "output_type": "stream",
          "name": "stdout",
          "text": [
            "Found 1647 images belonging to 3 classes.\n",
            "Found 409 images belonging to 3 classes.\n"
          ]
        }
      ]
    },
    {
      "cell_type": "code",
      "source": [
        "# Print the classes\n",
        "print(\"Classes in the training set:\", train_generator.class_indices)\n",
        "print(\"Classes in the validation set:\", validation_generator.class_indices)"
      ],
      "metadata": {
        "colab": {
          "base_uri": "https://localhost:8080/"
        },
        "id": "SspYXwYACS88",
        "outputId": "9a57f298-16f7-4c6f-96ec-9168c02403f0"
      },
      "execution_count": 5,
      "outputs": [
        {
          "output_type": "stream",
          "name": "stdout",
          "text": [
            "Classes in the training set: {'Potato___Early_blight': 0, 'Potato___Late_blight': 1, 'Potato___healthy': 2}\n",
            "Classes in the validation set: {'Potato___Early_blight': 0, 'Potato___Late_blight': 1, 'Potato___healthy': 2}\n"
          ]
        }
      ]
    },
    {
      "cell_type": "markdown",
      "source": [
        "# Load VGG16 without Top Layers"
      ],
      "metadata": {
        "id": "iuo6xh2zFSc0"
      }
    },
    {
      "cell_type": "code",
      "source": [
        "vgg16_base = VGG16(weights='imagenet', include_top=False, input_shape=(img_height, img_width, 3))\n"
      ],
      "metadata": {
        "colab": {
          "base_uri": "https://localhost:8080/"
        },
        "id": "QLtlqdQkCz5_",
        "outputId": "c596f652-ae7b-4846-f405-8895fc04ec51"
      },
      "execution_count": 6,
      "outputs": [
        {
          "output_type": "stream",
          "name": "stdout",
          "text": [
            "Downloading data from https://storage.googleapis.com/tensorflow/keras-applications/vgg16/vgg16_weights_tf_dim_ordering_tf_kernels_notop.h5\n",
            "58889256/58889256 [==============================] - 2s 0us/step\n"
          ]
        }
      ]
    },
    {
      "cell_type": "code",
      "source": [
        "# Print the model summary\n",
        "vgg16_base.summary()"
      ],
      "metadata": {
        "colab": {
          "base_uri": "https://localhost:8080/"
        },
        "collapsed": true,
        "id": "oPNNFcumEXmf",
        "outputId": "80a78fc3-cf12-4701-bd12-febe091f2964"
      },
      "execution_count": 7,
      "outputs": [
        {
          "output_type": "stream",
          "name": "stdout",
          "text": [
            "Model: \"vgg16\"\n",
            "_________________________________________________________________\n",
            " Layer (type)                Output Shape              Param #   \n",
            "=================================================================\n",
            " input_1 (InputLayer)        [(None, 224, 224, 3)]     0         \n",
            "                                                                 \n",
            " block1_conv1 (Conv2D)       (None, 224, 224, 64)      1792      \n",
            "                                                                 \n",
            " block1_conv2 (Conv2D)       (None, 224, 224, 64)      36928     \n",
            "                                                                 \n",
            " block1_pool (MaxPooling2D)  (None, 112, 112, 64)      0         \n",
            "                                                                 \n",
            " block2_conv1 (Conv2D)       (None, 112, 112, 128)     73856     \n",
            "                                                                 \n",
            " block2_conv2 (Conv2D)       (None, 112, 112, 128)     147584    \n",
            "                                                                 \n",
            " block2_pool (MaxPooling2D)  (None, 56, 56, 128)       0         \n",
            "                                                                 \n",
            " block3_conv1 (Conv2D)       (None, 56, 56, 256)       295168    \n",
            "                                                                 \n",
            " block3_conv2 (Conv2D)       (None, 56, 56, 256)       590080    \n",
            "                                                                 \n",
            " block3_conv3 (Conv2D)       (None, 56, 56, 256)       590080    \n",
            "                                                                 \n",
            " block3_pool (MaxPooling2D)  (None, 28, 28, 256)       0         \n",
            "                                                                 \n",
            " block4_conv1 (Conv2D)       (None, 28, 28, 512)       1180160   \n",
            "                                                                 \n",
            " block4_conv2 (Conv2D)       (None, 28, 28, 512)       2359808   \n",
            "                                                                 \n",
            " block4_conv3 (Conv2D)       (None, 28, 28, 512)       2359808   \n",
            "                                                                 \n",
            " block4_pool (MaxPooling2D)  (None, 14, 14, 512)       0         \n",
            "                                                                 \n",
            " block5_conv1 (Conv2D)       (None, 14, 14, 512)       2359808   \n",
            "                                                                 \n",
            " block5_conv2 (Conv2D)       (None, 14, 14, 512)       2359808   \n",
            "                                                                 \n",
            " block5_conv3 (Conv2D)       (None, 14, 14, 512)       2359808   \n",
            "                                                                 \n",
            " block5_pool (MaxPooling2D)  (None, 7, 7, 512)         0         \n",
            "                                                                 \n",
            "=================================================================\n",
            "Total params: 14714688 (56.13 MB)\n",
            "Trainable params: 14714688 (56.13 MB)\n",
            "Non-trainable params: 0 (0.00 Byte)\n",
            "_________________________________________________________________\n"
          ]
        }
      ]
    },
    {
      "cell_type": "markdown",
      "source": [
        "# Freeze Pre-trained Layers"
      ],
      "metadata": {
        "id": "jNpwrZWuFbqx"
      }
    },
    {
      "cell_type": "code",
      "source": [
        "for layer in vgg16_base.layers:\n",
        "    layer.trainable = False"
      ],
      "metadata": {
        "id": "pL_DWpxAEi_P"
      },
      "execution_count": 8,
      "outputs": []
    },
    {
      "cell_type": "code",
      "source": [
        "# Print the layers and their trainable status\n",
        "for i, layer in enumerate(vgg16_base.layers):\n",
        "    print(f\"Layer {i}: {layer.name} - Trainable: {layer.trainable}\")"
      ],
      "metadata": {
        "colab": {
          "base_uri": "https://localhost:8080/"
        },
        "collapsed": true,
        "id": "CW-vCNWgFpim",
        "outputId": "1521648f-a73a-44f0-9118-ee30836c6b5c"
      },
      "execution_count": 9,
      "outputs": [
        {
          "output_type": "stream",
          "name": "stdout",
          "text": [
            "Layer 0: input_1 - Trainable: False\n",
            "Layer 1: block1_conv1 - Trainable: False\n",
            "Layer 2: block1_conv2 - Trainable: False\n",
            "Layer 3: block1_pool - Trainable: False\n",
            "Layer 4: block2_conv1 - Trainable: False\n",
            "Layer 5: block2_conv2 - Trainable: False\n",
            "Layer 6: block2_pool - Trainable: False\n",
            "Layer 7: block3_conv1 - Trainable: False\n",
            "Layer 8: block3_conv2 - Trainable: False\n",
            "Layer 9: block3_conv3 - Trainable: False\n",
            "Layer 10: block3_pool - Trainable: False\n",
            "Layer 11: block4_conv1 - Trainable: False\n",
            "Layer 12: block4_conv2 - Trainable: False\n",
            "Layer 13: block4_conv3 - Trainable: False\n",
            "Layer 14: block4_pool - Trainable: False\n",
            "Layer 15: block5_conv1 - Trainable: False\n",
            "Layer 16: block5_conv2 - Trainable: False\n",
            "Layer 17: block5_conv3 - Trainable: False\n",
            "Layer 18: block5_pool - Trainable: False\n"
          ]
        }
      ]
    },
    {
      "cell_type": "markdown",
      "source": [
        "# Add Custom Fully Connected Layers"
      ],
      "metadata": {
        "id": "LJkbGTeLExRz"
      }
    },
    {
      "cell_type": "code",
      "source": [
        "model = Sequential([\n",
        "    vgg16_base,\n",
        "    Flatten(),\n",
        "    Dense(256, activation='relu'),\n",
        "    Dropout(0.5),\n",
        "    Dense(train_generator.num_classes, activation='softmax')\n",
        "])\n"
      ],
      "metadata": {
        "id": "OKH-OmB_Etwg"
      },
      "execution_count": 12,
      "outputs": []
    },
    {
      "cell_type": "markdown",
      "source": [
        "# Compile and Train the Model\n"
      ],
      "metadata": {
        "id": "2dC-LLfJE3z_"
      }
    },
    {
      "cell_type": "code",
      "source": [
        "model.compile(optimizer=Adam(learning_rate=0.001), loss='categorical_crossentropy', metrics=['accuracy'])\n",
        "\n",
        "history = model.fit(\n",
        "    train_generator,\n",
        "    steps_per_epoch=train_generator.samples // train_generator.batch_size,\n",
        "    validation_data=validation_generator,\n",
        "    validation_steps=validation_generator.samples // validation_generator.batch_size,\n",
        "    epochs=30\n",
        ")\n"
      ],
      "metadata": {
        "colab": {
          "base_uri": "https://localhost:8080/"
        },
        "id": "fAPxTL1XE5is",
        "outputId": "02fe48a6-685c-4a99-b9b2-458338130547"
      },
      "execution_count": 29,
      "outputs": [
        {
          "output_type": "stream",
          "name": "stdout",
          "text": [
            "Epoch 1/30\n",
            "51/51 [==============================] - 10s 184ms/step - loss: 0.6273 - accuracy: 0.8966 - val_loss: 0.3600 - val_accuracy: 0.8620\n",
            "Epoch 2/30\n",
            "51/51 [==============================] - 8s 160ms/step - loss: 0.1036 - accuracy: 0.9598 - val_loss: 0.0977 - val_accuracy: 0.9661\n",
            "Epoch 3/30\n",
            "51/51 [==============================] - 8s 161ms/step - loss: 0.0652 - accuracy: 0.9746 - val_loss: 0.1007 - val_accuracy: 0.9609\n",
            "Epoch 4/30\n",
            "51/51 [==============================] - 9s 181ms/step - loss: 0.0484 - accuracy: 0.9845 - val_loss: 0.0708 - val_accuracy: 0.9740\n",
            "Epoch 5/30\n",
            "51/51 [==============================] - 9s 180ms/step - loss: 0.0470 - accuracy: 0.9858 - val_loss: 0.0709 - val_accuracy: 0.9714\n",
            "Epoch 6/30\n",
            "51/51 [==============================] - 8s 159ms/step - loss: 0.0467 - accuracy: 0.9816 - val_loss: 0.1580 - val_accuracy: 0.9505\n",
            "Epoch 7/30\n",
            "51/51 [==============================] - 8s 157ms/step - loss: 0.0359 - accuracy: 0.9913 - val_loss: 0.0736 - val_accuracy: 0.9740\n",
            "Epoch 8/30\n",
            "51/51 [==============================] - 8s 159ms/step - loss: 0.0261 - accuracy: 0.9944 - val_loss: 0.0962 - val_accuracy: 0.9635\n",
            "Epoch 9/30\n",
            "51/51 [==============================] - 9s 176ms/step - loss: 0.0402 - accuracy: 0.9895 - val_loss: 0.0572 - val_accuracy: 0.9792\n",
            "Epoch 10/30\n",
            "51/51 [==============================] - 9s 179ms/step - loss: 0.0560 - accuracy: 0.9789 - val_loss: 0.0578 - val_accuracy: 0.9792\n",
            "Epoch 11/30\n",
            "51/51 [==============================] - 8s 159ms/step - loss: 0.0761 - accuracy: 0.9659 - val_loss: 0.1391 - val_accuracy: 0.9479\n",
            "Epoch 12/30\n",
            "51/51 [==============================] - 8s 159ms/step - loss: 0.1148 - accuracy: 0.9529 - val_loss: 0.1535 - val_accuracy: 0.9609\n",
            "Epoch 13/30\n",
            "51/51 [==============================] - 9s 178ms/step - loss: 0.0833 - accuracy: 0.9690 - val_loss: 0.1152 - val_accuracy: 0.9583\n",
            "Epoch 14/30\n",
            "51/51 [==============================] - 8s 158ms/step - loss: 0.0645 - accuracy: 0.9771 - val_loss: 0.0853 - val_accuracy: 0.9583\n",
            "Epoch 15/30\n",
            "51/51 [==============================] - 9s 178ms/step - loss: 0.0531 - accuracy: 0.9814 - val_loss: 0.0607 - val_accuracy: 0.9688\n",
            "Epoch 16/30\n",
            "51/51 [==============================] - 8s 157ms/step - loss: 0.0548 - accuracy: 0.9759 - val_loss: 0.0722 - val_accuracy: 0.9714\n",
            "Epoch 17/30\n",
            "51/51 [==============================] - 9s 178ms/step - loss: 0.0441 - accuracy: 0.9845 - val_loss: 0.0695 - val_accuracy: 0.9635\n",
            "Epoch 18/30\n",
            "51/51 [==============================] - 9s 177ms/step - loss: 0.0332 - accuracy: 0.9864 - val_loss: 0.1033 - val_accuracy: 0.9661\n",
            "Epoch 19/30\n",
            "51/51 [==============================] - 8s 156ms/step - loss: 0.0373 - accuracy: 0.9833 - val_loss: 0.1301 - val_accuracy: 0.9688\n",
            "Epoch 20/30\n",
            "51/51 [==============================] - 8s 158ms/step - loss: 0.0417 - accuracy: 0.9851 - val_loss: 0.1069 - val_accuracy: 0.9688\n",
            "Epoch 21/30\n",
            "51/51 [==============================] - 9s 178ms/step - loss: 0.0571 - accuracy: 0.9808 - val_loss: 0.1430 - val_accuracy: 0.9557\n",
            "Epoch 22/30\n",
            "51/51 [==============================] - 9s 177ms/step - loss: 0.0598 - accuracy: 0.9771 - val_loss: 0.0751 - val_accuracy: 0.9635\n",
            "Epoch 23/30\n",
            "51/51 [==============================] - 9s 179ms/step - loss: 0.0832 - accuracy: 0.9672 - val_loss: 0.1351 - val_accuracy: 0.9531\n",
            "Epoch 24/30\n",
            "51/51 [==============================] - 9s 179ms/step - loss: 0.1256 - accuracy: 0.9461 - val_loss: 0.0797 - val_accuracy: 0.9688\n",
            "Epoch 25/30\n",
            "51/51 [==============================] - 9s 178ms/step - loss: 0.0949 - accuracy: 0.9622 - val_loss: 0.1102 - val_accuracy: 0.9688\n",
            "Epoch 26/30\n",
            "51/51 [==============================] - 8s 158ms/step - loss: 0.0850 - accuracy: 0.9641 - val_loss: 0.0945 - val_accuracy: 0.9766\n",
            "Epoch 27/30\n",
            "51/51 [==============================] - 9s 178ms/step - loss: 0.0602 - accuracy: 0.9802 - val_loss: 0.0978 - val_accuracy: 0.9609\n",
            "Epoch 28/30\n",
            "51/51 [==============================] - 8s 157ms/step - loss: 0.0715 - accuracy: 0.9721 - val_loss: 0.0773 - val_accuracy: 0.9740\n",
            "Epoch 29/30\n",
            "51/51 [==============================] - 9s 178ms/step - loss: 0.0581 - accuracy: 0.9771 - val_loss: 0.0731 - val_accuracy: 0.9635\n",
            "Epoch 30/30\n",
            "51/51 [==============================] - 8s 158ms/step - loss: 0.0635 - accuracy: 0.9734 - val_loss: 0.0662 - val_accuracy: 0.9792\n"
          ]
        }
      ]
    },
    {
      "cell_type": "markdown",
      "source": [
        "# Save Model\n"
      ],
      "metadata": {
        "id": "T6Lm7NPbNAos"
      }
    },
    {
      "cell_type": "code",
      "source": [
        "# Save the model\n",
        "model.save('/content/MyDrive/PotatoDiseaseClassifier(2).h5')"
      ],
      "metadata": {
        "colab": {
          "base_uri": "https://localhost:8080/"
        },
        "id": "ovvo9x3qM_48",
        "outputId": "3a14d105-b516-45e1-fa8e-c59ddfe02179"
      },
      "execution_count": 32,
      "outputs": [
        {
          "output_type": "stream",
          "name": "stderr",
          "text": [
            "/usr/local/lib/python3.10/dist-packages/keras/src/engine/training.py:3103: UserWarning: You are saving your model as an HDF5 file via `model.save()`. This file format is considered legacy. We recommend using instead the native Keras format, e.g. `model.save('my_model.keras')`.\n",
            "  saving_api.save_model(\n"
          ]
        }
      ]
    },
    {
      "cell_type": "markdown",
      "source": [
        "# Test The Model"
      ],
      "metadata": {
        "id": "domI4z5mMe6m"
      }
    },
    {
      "cell_type": "code",
      "source": [
        "from sklearn.metrics import classification_report\n",
        "\n",
        "# Load the saved model\n",
        "model = tf.keras.models.load_model('/content/MyDrive/PotatoDiseaseClassifier(2).h5')\n",
        "\n",
        "# Create an ImageDataGenerator for normalization\n",
        "test_datagen = ImageDataGenerator(rescale=1.0/255)\n",
        "\n",
        "# Assuming test images are in a separate directory\n",
        "test_dir = '/content/drive/MyDrive/testing'  # Change this to your actual test images path\n",
        "img_height, img_width = 224, 224  # Ensure this matches your training image size\n",
        "\n",
        "test_generator = test_datagen.flow_from_directory(\n",
        "    test_dir,\n",
        "    target_size=(img_height, img_width),\n",
        "    batch_size=32,\n",
        "    class_mode='categorical',\n",
        "    shuffle=False  # Do not shuffle data to keep the order for evaluation\n",
        ")\n",
        "\n",
        "\n",
        "# Make predictions\n",
        "predictions = model.predict(test_generator)\n",
        "predicted_classes = predictions.argmax(axis=-1)\n",
        "\n",
        "# Get true labels\n",
        "true_classes = test_generator.classes\n",
        "class_labels = list(test_generator.class_indices.keys())\n",
        "\n",
        "# Print a classification report\n",
        "report = classification_report(true_classes, predicted_classes, target_names=class_labels)\n",
        "print(report)\n",
        "\n",
        "# Evaluate the model on the test set\n",
        "loss, accuracy = model.evaluate(test_generator)\n",
        "print(f'Test Loss: {loss}')\n",
        "print(f'Test Accuracy: {accuracy}')\n",
        "\n"
      ],
      "metadata": {
        "colab": {
          "base_uri": "https://localhost:8080/"
        },
        "id": "tfhydZ3bMOyG",
        "outputId": "95f668c1-4426-46b2-b675-b5efc9c44100"
      },
      "execution_count": 33,
      "outputs": [
        {
          "output_type": "stream",
          "name": "stdout",
          "text": [
            "Found 96 images belonging to 3 classes.\n"
          ]
        },
        {
          "output_type": "stream",
          "name": "stderr",
          "text": [
            "WARNING:tensorflow:5 out of the last 13 calls to <function Model.make_predict_function.<locals>.predict_function at 0x7c81c72c1240> triggered tf.function retracing. Tracing is expensive and the excessive number of tracings could be due to (1) creating @tf.function repeatedly in a loop, (2) passing tensors with different shapes, (3) passing Python objects instead of tensors. For (1), please define your @tf.function outside of the loop. For (2), @tf.function has reduce_retracing=True option that can avoid unnecessary retracing. For (3), please refer to https://www.tensorflow.org/guide/function#controlling_retracing and https://www.tensorflow.org/api_docs/python/tf/function for  more details.\n"
          ]
        },
        {
          "output_type": "stream",
          "name": "stdout",
          "text": [
            "3/3 [==============================] - 1s 151ms/step\n",
            "                       precision    recall  f1-score   support\n",
            "\n",
            "Potato___Early_blight       0.95      1.00      0.97        36\n",
            " Potato___Late_blight       0.92      0.92      0.92        36\n",
            "     Potato___healthy       0.95      0.88      0.91        24\n",
            "\n",
            "             accuracy                           0.94        96\n",
            "            macro avg       0.94      0.93      0.93        96\n",
            "         weighted avg       0.94      0.94      0.94        96\n",
            "\n",
            "3/3 [==============================] - 1s 153ms/step - loss: 0.1871 - accuracy: 0.9375\n",
            "Test Loss: 0.18710823357105255\n",
            "Test Accuracy: 0.9375\n"
          ]
        }
      ]
    },
    {
      "cell_type": "code",
      "source": [
        "import matplotlib.pyplot as plt\n",
        "\n",
        "# Plot the accuracy and loss curves\n",
        "plt.figure(figsize=(12, 4))\n",
        "plt.subplot(1, 2, 1)\n",
        "plt.plot(history.history['accuracy'], label='Train Accuracy')\n",
        "plt.plot(history.history['val_accuracy'], label='Validation Accuracy')\n",
        "plt.xlabel('Epoch')\n",
        "plt.ylabel('Accuracy')\n",
        "plt.legend()\n",
        "\n"
      ],
      "metadata": {
        "colab": {
          "base_uri": "https://localhost:8080/",
          "height": 409
        },
        "id": "8_OGDzO-SDqr",
        "outputId": "860561b3-bff8-42a3-aec4-9034be9d9513"
      },
      "execution_count": 35,
      "outputs": [
        {
          "output_type": "execute_result",
          "data": {
            "text/plain": [
              "<matplotlib.legend.Legend at 0x7c81c72be140>"
            ]
          },
          "metadata": {},
          "execution_count": 35
        },
        {
          "output_type": "display_data",
          "data": {
            "text/plain": [
              "<Figure size 1200x400 with 1 Axes>"
            ],
            "image/png": "[encoded data removed]"
          },
          "metadata": {}
        }
      ]
    },
    {
      "cell_type": "code",
      "source": [
        "plt.subplot(1, 2, 2)\n",
        "plt.plot(history.history['loss'], label='Train Loss')\n",
        "plt.plot(history.history['val_loss'], label='Validation Loss')\n",
        "plt.xlabel('Epoch')\n",
        "plt.ylabel('Loss')\n",
        "plt.legend()\n",
        "\n",
        "plt.tight_layout()\n",
        "plt.show()"
      ],
      "metadata": {
        "colab": {
          "base_uri": "https://localhost:8080/",
          "height": 487
        },
        "id": "Zdp-C8jkSYD1",
        "outputId": "9e4b8358-71cb-4c7f-d5ba-c00efcdbbe2e"
      },
      "execution_count": 36,
      "outputs": [
        {
          "output_type": "display_data",
          "data": {
            "text/plain": [
              "<Figure size 640x480 with 1 Axes>"
            ],
            "image/png": "[encoded data removed]"
          },
          "metadata": {}
        }
      ]
    }
  ]
}